{
 "cells": [
  {
   "cell_type": "code",
   "execution_count": 85,
   "id": "9039926f",
   "metadata": {},
   "outputs": [],
   "source": [
    "# pip install -U scikit-learn"
   ]
  },
  {
   "cell_type": "code",
   "execution_count": 32,
   "id": "c6b2aa1b",
   "metadata": {},
   "outputs": [],
   "source": [
    "from sklearn import datasets\n",
    "import pandas as pd\n",
    "import matplotlib.pyplot as plt\n",
    "import seaborn as sns\n",
    "import numpy as np "
   ]
  },
  {
   "cell_type": "code",
   "execution_count": 33,
   "id": "a7f37bf0",
   "metadata": {},
   "outputs": [],
   "source": [
    "sns.set_theme(rc = {\"figure.figsize\": (14, 4)})"
   ]
  },
  {
   "cell_type": "code",
   "execution_count": 34,
   "id": "78a35585",
   "metadata": {},
   "outputs": [],
   "source": [
    "diabetes = datasets.load_diabetes()\n",
    "# print(type(diabetes))"
   ]
  },
  {
   "cell_type": "code",
   "execution_count": 77,
   "id": "6fe081d7",
   "metadata": {},
   "outputs": [
    {
     "name": "stdout",
     "output_type": "stream",
     "text": [
      ".. _diabetes_dataset:\n",
      "\n",
      "Diabetes dataset\n",
      "----------------\n",
      "\n",
      "Ten baseline variables, age, sex, body mass index, average blood\n",
      "pressure, and six blood serum measurements were obtained for each of n =\n",
      "442 diabetes patients, as well as the response of interest, a\n",
      "quantitative measure of disease progression one year after baseline.\n",
      "\n",
      "**Data Set Characteristics:**\n",
      "\n",
      ":Number of Instances: 442\n",
      "\n",
      ":Number of Attributes: First 10 columns are numeric predictive values\n",
      "\n",
      ":Target: Column 11 is a quantitative measure of disease progression one year after baseline\n",
      "\n",
      ":Attribute Information:\n",
      "    - age     age in years\n",
      "    - sex\n",
      "    - bmi     body mass index\n",
      "    - bp      average blood pressure\n",
      "    - s1      tc, total serum cholesterol\n",
      "    - s2      ldl, low-density lipoproteins\n",
      "    - s3      hdl, high-density lipoproteins\n",
      "    - s4      tch, total cholesterol / HDL\n",
      "    - s5      ltg, possibly log of serum triglycerides level\n",
      "    - s6      glu, blood sugar level\n",
      "\n",
      "Note: Each of these 10 feature variables have been mean centered and scaled by the standard deviation times the square root of `n_samples` (i.e. the sum of squares of each column totals 1).\n",
      "\n",
      "Source URL:\n",
      "https://www4.stat.ncsu.edu/~boos/var.select/diabetes.html\n",
      "\n",
      "For more information see:\n",
      "Bradley Efron, Trevor Hastie, Iain Johnstone and Robert Tibshirani (2004) \"Least Angle Regression,\" Annals of Statistics (with discussion), 407-499.\n",
      "(https://web.stanford.edu/~hastie/Papers/LARS/LeastAngle_2002.pdf)\n",
      "\n"
     ]
    }
   ],
   "source": [
    "# print(diabetes)\n",
    "print(diabetes['DESCR'])\n",
    "# diabetes['feature_names']"
   ]
  },
  {
   "cell_type": "code",
   "execution_count": 78,
   "id": "1389eaf2",
   "metadata": {},
   "outputs": [
    {
     "name": "stdout",
     "output_type": "stream",
     "text": [
      "(442, 10)\n"
     ]
    }
   ],
   "source": [
    "df = pd.DataFrame(diabetes['data'], columns = diabetes['feature_names'])\n",
    "print(df.shape)"
   ]
  },
  {
   "cell_type": "markdown",
   "id": "13b9dd3b",
   "metadata": {},
   "source": [
    "---\n",
    "- Comment traiter de facon adequate les valeurs aberrantes"
   ]
  },
  {
   "cell_type": "code",
   "execution_count": 79,
   "id": "9a9e6b40",
   "metadata": {},
   "outputs": [
    {
     "data": {
      "text/html": [
       "<div>\n",
       "<style scoped>\n",
       "    .dataframe tbody tr th:only-of-type {\n",
       "        vertical-align: middle;\n",
       "    }\n",
       "\n",
       "    .dataframe tbody tr th {\n",
       "        vertical-align: top;\n",
       "    }\n",
       "\n",
       "    .dataframe thead th {\n",
       "        text-align: right;\n",
       "    }\n",
       "</style>\n",
       "<table border=\"1\" class=\"dataframe\">\n",
       "  <thead>\n",
       "    <tr style=\"text-align: right;\">\n",
       "      <th></th>\n",
       "      <th>bmi</th>\n",
       "      <th>s1</th>\n",
       "      <th>s2</th>\n",
       "      <th>s3</th>\n",
       "      <th>s4</th>\n",
       "      <th>s5</th>\n",
       "      <th>s6</th>\n",
       "    </tr>\n",
       "  </thead>\n",
       "  <tbody>\n",
       "    <tr>\n",
       "      <th>0</th>\n",
       "      <td>0.061696</td>\n",
       "      <td>-0.044223</td>\n",
       "      <td>-0.034821</td>\n",
       "      <td>-0.043401</td>\n",
       "      <td>-0.002592</td>\n",
       "      <td>0.019907</td>\n",
       "      <td>-0.017646</td>\n",
       "    </tr>\n",
       "    <tr>\n",
       "      <th>1</th>\n",
       "      <td>-0.051474</td>\n",
       "      <td>-0.008449</td>\n",
       "      <td>-0.019163</td>\n",
       "      <td>0.074412</td>\n",
       "      <td>-0.039493</td>\n",
       "      <td>-0.068332</td>\n",
       "      <td>-0.092204</td>\n",
       "    </tr>\n",
       "    <tr>\n",
       "      <th>2</th>\n",
       "      <td>0.044451</td>\n",
       "      <td>-0.045599</td>\n",
       "      <td>-0.034194</td>\n",
       "      <td>-0.032356</td>\n",
       "      <td>-0.002592</td>\n",
       "      <td>0.002861</td>\n",
       "      <td>-0.025930</td>\n",
       "    </tr>\n",
       "    <tr>\n",
       "      <th>3</th>\n",
       "      <td>-0.011595</td>\n",
       "      <td>0.012191</td>\n",
       "      <td>0.024991</td>\n",
       "      <td>-0.036038</td>\n",
       "      <td>0.034309</td>\n",
       "      <td>0.022688</td>\n",
       "      <td>-0.009362</td>\n",
       "    </tr>\n",
       "    <tr>\n",
       "      <th>4</th>\n",
       "      <td>-0.036385</td>\n",
       "      <td>0.003935</td>\n",
       "      <td>0.015596</td>\n",
       "      <td>0.008142</td>\n",
       "      <td>-0.002592</td>\n",
       "      <td>-0.031988</td>\n",
       "      <td>-0.046641</td>\n",
       "    </tr>\n",
       "  </tbody>\n",
       "</table>\n",
       "</div>"
      ],
      "text/plain": [
       "        bmi        s1        s2        s3        s4        s5        s6\n",
       "0  0.061696 -0.044223 -0.034821 -0.043401 -0.002592  0.019907 -0.017646\n",
       "1 -0.051474 -0.008449 -0.019163  0.074412 -0.039493 -0.068332 -0.092204\n",
       "2  0.044451 -0.045599 -0.034194 -0.032356 -0.002592  0.002861 -0.025930\n",
       "3 -0.011595  0.012191  0.024991 -0.036038  0.034309  0.022688 -0.009362\n",
       "4 -0.036385  0.003935  0.015596  0.008142 -0.002592 -0.031988 -0.046641"
      ]
     },
     "execution_count": 79,
     "metadata": {},
     "output_type": "execute_result"
    }
   ],
   "source": [
    "draft = df = df[['bmi', 's1', 's2', 's3', 's4', 's5', 's6']]\n",
    "df.head()"
   ]
  },
  {
   "cell_type": "code",
   "execution_count": 80,
   "id": "86fe0b29",
   "metadata": {},
   "outputs": [],
   "source": [
    "copied = draft"
   ]
  },
  {
   "attachments": {},
   "cell_type": "markdown",
   "id": "bdc59cfa",
   "metadata": {},
   "source": [
    "---\n",
    "- *Box plot*"
   ]
  },
  {
   "cell_type": "code",
   "execution_count": 39,
   "id": "1a853e7d",
   "metadata": {},
   "outputs": [],
   "source": [
    "def displayOutliers(data) -> None:\n",
    "    sns.boxplot(data)\n",
    "    plt.show()"
   ]
  },
  {
   "cell_type": "code",
   "execution_count": 40,
   "id": "a5d7ca84",
   "metadata": {},
   "outputs": [
    {
     "data": {
      "image/png": "[encoded data removed]",
      "text/plain": [
       "<Figure size 1400x400 with 1 Axes>"
      ]
     },
     "metadata": {},
     "output_type": "display_data"
    }
   ],
   "source": [
    "displayOutliers(df)"
   ]
  },
  {
   "cell_type": "code",
   "execution_count": null,
   "id": "8397e87a",
   "metadata": {},
   "outputs": [],
   "source": []
  },
  {
   "cell_type": "code",
   "execution_count": 41,
   "id": "6887707b",
   "metadata": {},
   "outputs": [
    {
     "data": {
      "image/png": "[encoded data removed]",
      "text/plain": [
       "<Figure size 1400x400 with 1 Axes>"
      ]
     },
     "metadata": {},
     "output_type": "display_data"
    }
   ],
   "source": [
    "displayOutliers(df)"
   ]
  },
  {
   "attachments": {},
   "cell_type": "markdown",
   "id": "2970e566",
   "metadata": {},
   "source": [
    "---\n",
    "- **METHODE POUR REMPLACER LES OUTLIERS**"
   ]
  },
  {
   "cell_type": "code",
   "execution_count": 42,
   "id": "eecb03b9",
   "metadata": {},
   "outputs": [],
   "source": [
    "def impute_outliers(data, colname): \n",
    "    q1 = np.percentile(data[colname], 25)\n",
    "    q3 = np.percentile(data[colname], 75) \n",
    "\n",
    "    lower_bound = q1 - 1.5*(q3 - q1)\n",
    "    upper_bound = q3 + 1.5*(q3 - q1)\n",
    "\n",
    "    data.loc[(data[colname] <= lower_bound), colname] = lower_bound\n",
    "    data.loc[(data[colname] >= upper_bound), colname] = upper_bound"
   ]
  },
  {
   "cell_type": "code",
   "execution_count": 43,
   "id": "3501159d",
   "metadata": {},
   "outputs": [],
   "source": [
    "for colname in df.columns:\n",
    "    impute_outliers(df, colname)"
   ]
  },
  {
   "cell_type": "markdown",
   "id": "cb842485",
   "metadata": {},
   "source": [
    "- Verifier que totu a ete bien remplace et qu'il n'ait pas trop d'ecart avant et apres le remplacement de valeurs aberrantes"
   ]
  },
  {
   "cell_type": "code",
   "execution_count": 44,
   "id": "12333b5a",
   "metadata": {},
   "outputs": [
    {
     "data": {
      "image/png": "[encoded data removed]",
      "text/plain": [
       "<Figure size 1400x400 with 1 Axes>"
      ]
     },
     "metadata": {},
     "output_type": "display_data"
    }
   ],
   "source": [
    "displayOutliers(df)"
   ]
  },
  {
   "cell_type": "markdown",
   "id": "5622c97e",
   "metadata": {},
   "source": [
    "**SUPPRESSION DE VALEURS ABERRANTES**"
   ]
  },
  {
   "cell_type": "code",
   "execution_count": 71,
   "id": "456f6f6a",
   "metadata": {},
   "outputs": [],
   "source": [
    "def drop_outliers(data, colname):\n",
    "    Q1 = np.percentile(data[colname], 25)\n",
    "    Q3 = np.percentile(data[colname], 75)\n",
    "    limit = 1.5*(Q3 - Q1)\n",
    "    \n",
    "    data.drop(data[data[colname] >= (limit + Q3)].index, inplace=True)\n",
    "    data.drop(data[data[colname] <= (Q1 - limit)].index, inplace=True)"
   ]
  },
  {
   "cell_type": "markdown",
   "id": "2ca700f5",
   "metadata": {},
   "source": [
    "- Avant la suppression de valeurs aberrantes"
   ]
  },
  {
   "cell_type": "code",
   "execution_count": 55,
   "id": "23ce0669",
   "metadata": {},
   "outputs": [
    {
     "data": {
      "image/png": "[encoded data removed]",
      "text/plain": [
       "<Figure size 1400x400 with 1 Axes>"
      ]
     },
     "metadata": {},
     "output_type": "display_data"
    }
   ],
   "source": [
    "displayOutliers(draft)"
   ]
  },
  {
   "cell_type": "code",
   "execution_count": 72,
   "id": "2ad64709",
   "metadata": {},
   "outputs": [],
   "source": [
    "for colname in draft.columns:\n",
    "    drop_outliers(draft, colname)"
   ]
  },
  {
   "cell_type": "markdown",
   "id": "2e4b1fa3",
   "metadata": {},
   "source": [
    "- Verifier apres la suppression de valeurs aberrantes"
   ]
  },
  {
   "cell_type": "code",
   "execution_count": 73,
   "id": "cf935ac7",
   "metadata": {},
   "outputs": [
    {
     "data": {
      "image/png": "[encoded data removed]",
      "text/plain": [
       "<Figure size 1400x400 with 1 Axes>"
      ]
     },
     "metadata": {},
     "output_type": "display_data"
    }
   ],
   "source": [
    "displayOutliers(draft)"
   ]
  },
  {
   "attachments": {},
   "cell_type": "markdown",
   "id": "7f553923",
   "metadata": {},
   "source": [
    "---\n",
    "- **EXTRACTION DE VALEURS ABERRANTES**"
   ]
  },
  {
   "cell_type": "code",
   "execution_count": 82,
   "id": "a68ae09b",
   "metadata": {},
   "outputs": [],
   "source": [
    "def extract_outliers(data, colname) -> pd.DataFrame:\n",
    "    q1 = np.percentile(data[colname], 25)\n",
    "    q3 = np.percentile(data[colname], 75) \n",
    "\n",
    "    iqr = q3 - q1\n",
    "    \n",
    "    lower_bound = q1 - 1.5*iqr\n",
    "    upper_bound = q3 + 1.5*iqr\n",
    "    \n",
    "    return data[(data[colname] < lower_bound) | (data[colname] > upper_bound)]"
   ]
  },
  {
   "cell_type": "code",
   "execution_count": 83,
   "id": "aa967afe",
   "metadata": {},
   "outputs": [],
   "source": [
    "for col in copied.columns:\n",
    "    extract_outlier = extract_outliers(copied, col)"
   ]
  },
  {
   "cell_type": "code",
   "execution_count": 84,
   "id": "dd1d376a",
   "metadata": {},
   "outputs": [
    {
     "name": "stdout",
     "output_type": "stream",
     "text": [
      "(9, 7)\n"
     ]
    },
    {
     "data": {
      "text/html": [
       "<div>\n",
       "<style scoped>\n",
       "    .dataframe tbody tr th:only-of-type {\n",
       "        vertical-align: middle;\n",
       "    }\n",
       "\n",
       "    .dataframe tbody tr th {\n",
       "        vertical-align: top;\n",
       "    }\n",
       "\n",
       "    .dataframe thead th {\n",
       "        text-align: right;\n",
       "    }\n",
       "</style>\n",
       "<table border=\"1\" class=\"dataframe\">\n",
       "  <thead>\n",
       "    <tr style=\"text-align: right;\">\n",
       "      <th></th>\n",
       "      <th>bmi</th>\n",
       "      <th>s1</th>\n",
       "      <th>s2</th>\n",
       "      <th>s3</th>\n",
       "      <th>s4</th>\n",
       "      <th>s5</th>\n",
       "      <th>s6</th>\n",
       "    </tr>\n",
       "  </thead>\n",
       "  <tbody>\n",
       "    <tr>\n",
       "      <th>23</th>\n",
       "      <td>0.060618</td>\n",
       "      <td>0.028702</td>\n",
       "      <td>-0.047347</td>\n",
       "      <td>-0.054446</td>\n",
       "      <td>0.071210</td>\n",
       "      <td>0.133597</td>\n",
       "      <td>0.135612</td>\n",
       "    </tr>\n",
       "    <tr>\n",
       "      <th>84</th>\n",
       "      <td>-0.039618</td>\n",
       "      <td>-0.029088</td>\n",
       "      <td>-0.030124</td>\n",
       "      <td>0.044958</td>\n",
       "      <td>-0.050195</td>\n",
       "      <td>-0.068332</td>\n",
       "      <td>-0.129483</td>\n",
       "    </tr>\n",
       "    <tr>\n",
       "      <th>117</th>\n",
       "      <td>-0.021295</td>\n",
       "      <td>0.045213</td>\n",
       "      <td>0.031567</td>\n",
       "      <td>-0.047082</td>\n",
       "      <td>0.071210</td>\n",
       "      <td>0.079122</td>\n",
       "      <td>0.135612</td>\n",
       "    </tr>\n",
       "    <tr>\n",
       "      <th>141</th>\n",
       "      <td>0.047685</td>\n",
       "      <td>0.034206</td>\n",
       "      <td>0.057245</td>\n",
       "      <td>-0.080217</td>\n",
       "      <td>0.130252</td>\n",
       "      <td>0.045067</td>\n",
       "      <td>0.131470</td>\n",
       "    </tr>\n",
       "    <tr>\n",
       "      <th>168</th>\n",
       "      <td>0.059541</td>\n",
       "      <td>0.061725</td>\n",
       "      <td>0.063195</td>\n",
       "      <td>-0.058127</td>\n",
       "      <td>0.108111</td>\n",
       "      <td>0.068986</td>\n",
       "      <td>0.127328</td>\n",
       "    </tr>\n",
       "    <tr>\n",
       "      <th>245</th>\n",
       "      <td>-0.035307</td>\n",
       "      <td>-0.056607</td>\n",
       "      <td>-0.058620</td>\n",
       "      <td>0.030232</td>\n",
       "      <td>-0.039493</td>\n",
       "      <td>-0.049872</td>\n",
       "      <td>-0.129483</td>\n",
       "    </tr>\n",
       "    <tr>\n",
       "      <th>350</th>\n",
       "      <td>0.060618</td>\n",
       "      <td>0.012191</td>\n",
       "      <td>-0.017598</td>\n",
       "      <td>-0.002903</td>\n",
       "      <td>-0.002592</td>\n",
       "      <td>0.070207</td>\n",
       "      <td>0.135612</td>\n",
       "    </tr>\n",
       "    <tr>\n",
       "      <th>406</th>\n",
       "      <td>-0.080575</td>\n",
       "      <td>-0.037344</td>\n",
       "      <td>-0.037013</td>\n",
       "      <td>0.033914</td>\n",
       "      <td>-0.039493</td>\n",
       "      <td>-0.056153</td>\n",
       "      <td>-0.137767</td>\n",
       "    </tr>\n",
       "    <tr>\n",
       "      <th>428</th>\n",
       "      <td>0.088642</td>\n",
       "      <td>0.035582</td>\n",
       "      <td>0.021546</td>\n",
       "      <td>-0.024993</td>\n",
       "      <td>0.034309</td>\n",
       "      <td>0.066051</td>\n",
       "      <td>0.131470</td>\n",
       "    </tr>\n",
       "  </tbody>\n",
       "</table>\n",
       "</div>"
      ],
      "text/plain": [
       "          bmi        s1        s2        s3        s4        s5        s6\n",
       "23   0.060618  0.028702 -0.047347 -0.054446  0.071210  0.133597  0.135612\n",
       "84  -0.039618 -0.029088 -0.030124  0.044958 -0.050195 -0.068332 -0.129483\n",
       "117 -0.021295  0.045213  0.031567 -0.047082  0.071210  0.079122  0.135612\n",
       "141  0.047685  0.034206  0.057245 -0.080217  0.130252  0.045067  0.131470\n",
       "168  0.059541  0.061725  0.063195 -0.058127  0.108111  0.068986  0.127328\n",
       "245 -0.035307 -0.056607 -0.058620  0.030232 -0.039493 -0.049872 -0.129483\n",
       "350  0.060618  0.012191 -0.017598 -0.002903 -0.002592  0.070207  0.135612\n",
       "406 -0.080575 -0.037344 -0.037013  0.033914 -0.039493 -0.056153 -0.137767\n",
       "428  0.088642  0.035582  0.021546 -0.024993  0.034309  0.066051  0.131470"
      ]
     },
     "execution_count": 84,
     "metadata": {},
     "output_type": "execute_result"
    }
   ],
   "source": [
    "print(extract_outlier.shape)\n",
    "extract_outlier"
   ]
  },
  {
   "cell_type": "code",
   "execution_count": null,
   "id": "975bc29f",
   "metadata": {},
   "outputs": [],
   "source": []
  }
 ],
 "metadata": {
  "kernelspec": {
   "display_name": "Python 3",
   "language": "python",
   "name": "python3"
  },
  "language_info": {
   "codemirror_mode": {
    "name": "ipython",
    "version": 3
   },
   "file_extension": ".py",
   "mimetype": "text/x-python",
   "name": "python",
   "nbconvert_exporter": "python",
   "pygments_lexer": "ipython3",
   "version": "3.12.0"
  },
  "vscode": {
   "interpreter": {
    "hash": "916dbcbb3f70747c44a77c7bcd40155683ae19c65e1c03b4aa3499c5328201f1"
   }
  }
 },
 "nbformat": 4,
 "nbformat_minor": 5
}
