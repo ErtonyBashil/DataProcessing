{
 "cells": [
  {
   "cell_type": "code",
   "execution_count": 16,
   "id": "c6b2aa1b",
   "metadata": {},
   "outputs": [],
   "source": [
    "import pandas as pd\n",
    "import matplotlib.pyplot as plt\n",
    "import seaborn as sns\n",
    "import numpy as np\n",
    "from sklearn.preprocessing import MinMaxScaler, StandardScaler, RobustScaler"
   ]
  },
  {
   "cell_type": "markdown",
   "id": "518e1b52",
   "metadata": {},
   "source": [
    "- Mise à l'echelle commune de variables"
   ]
  },
  {
   "cell_type": "code",
   "execution_count": 17,
   "id": "c1612b96",
   "metadata": {},
   "outputs": [],
   "source": [
    "sns.set_theme(rc = {\"figure.figsize\": (10, 4)})"
   ]
  },
  {
   "cell_type": "code",
   "execution_count": 20,
   "id": "78a35585",
   "metadata": {},
   "outputs": [
    {
     "name": "stdout",
     "output_type": "stream",
     "text": [
      "(35000, 7)\n"
     ]
    },
    {
     "data": {
      "text/html": [
       "<div>\n",
       "<style scoped>\n",
       "    .dataframe tbody tr th:only-of-type {\n",
       "        vertical-align: middle;\n",
       "    }\n",
       "\n",
       "    .dataframe tbody tr th {\n",
       "        vertical-align: top;\n",
       "    }\n",
       "\n",
       "    .dataframe thead th {\n",
       "        text-align: right;\n",
       "    }\n",
       "</style>\n",
       "<table border=\"1\" class=\"dataframe\">\n",
       "  <thead>\n",
       "    <tr style=\"text-align: right;\">\n",
       "      <th></th>\n",
       "      <th>nom</th>\n",
       "      <th>age</th>\n",
       "      <th>langue</th>\n",
       "      <th>genre</th>\n",
       "      <th>nombre_enfant</th>\n",
       "      <th>titre</th>\n",
       "      <th>salaire</th>\n",
       "    </tr>\n",
       "  </thead>\n",
       "  <tbody>\n",
       "    <tr>\n",
       "      <th>0</th>\n",
       "      <td>James</td>\n",
       "      <td>46.0</td>\n",
       "      <td>chinois</td>\n",
       "      <td>Masculin</td>\n",
       "      <td>7</td>\n",
       "      <td>Fonctionaire</td>\n",
       "      <td>269533.0</td>\n",
       "    </tr>\n",
       "    <tr>\n",
       "      <th>1</th>\n",
       "      <td>Haroun</td>\n",
       "      <td>71.0</td>\n",
       "      <td>arabe</td>\n",
       "      <td>Masculin</td>\n",
       "      <td>6</td>\n",
       "      <td>Fonctionaire</td>\n",
       "      <td>414675.0</td>\n",
       "    </tr>\n",
       "    <tr>\n",
       "      <th>2</th>\n",
       "      <td>Sherif</td>\n",
       "      <td>63.0</td>\n",
       "      <td>Russe</td>\n",
       "      <td>Masculin</td>\n",
       "      <td>4</td>\n",
       "      <td>Fonctionaire</td>\n",
       "      <td>273929.0</td>\n",
       "    </tr>\n",
       "    <tr>\n",
       "      <th>3</th>\n",
       "      <td>Cisse</td>\n",
       "      <td>60.0</td>\n",
       "      <td>Allemand</td>\n",
       "      <td>Masculin</td>\n",
       "      <td>0</td>\n",
       "      <td>Fonctionaire</td>\n",
       "      <td>467578.0</td>\n",
       "    </tr>\n",
       "    <tr>\n",
       "      <th>4</th>\n",
       "      <td>Robert</td>\n",
       "      <td>43.0</td>\n",
       "      <td>Allemand</td>\n",
       "      <td>Feminin</td>\n",
       "      <td>7</td>\n",
       "      <td>Retraite</td>\n",
       "      <td>762622.0</td>\n",
       "    </tr>\n",
       "  </tbody>\n",
       "</table>\n",
       "</div>"
      ],
      "text/plain": [
       "      nom   age    langue     genre  nombre_enfant         titre   salaire\n",
       "0   James  46.0   chinois  Masculin              7  Fonctionaire  269533.0\n",
       "1  Haroun  71.0     arabe  Masculin              6  Fonctionaire  414675.0\n",
       "2  Sherif  63.0     Russe  Masculin              4  Fonctionaire  273929.0\n",
       "3   Cisse  60.0  Allemand  Masculin              0  Fonctionaire  467578.0\n",
       "4  Robert  43.0  Allemand   Feminin              7      Retraite  762622.0"
      ]
     },
     "execution_count": 20,
     "metadata": {},
     "output_type": "execute_result"
    }
   ],
   "source": [
    "df = pd.read_csv('df_without_na.csv')\n",
    "print(df.shape)\n",
    "# df.dropna(inplace=True)\n",
    "df.head()"
   ]
  },
  {
   "cell_type": "code",
   "execution_count": 36,
   "id": "19df5244",
   "metadata": {},
   "outputs": [],
   "source": [
    "draft = copy = df = df[['age','salaire']]"
   ]
  },
  {
   "cell_type": "markdown",
   "id": "daab1403",
   "metadata": {},
   "source": [
    "1- Verifier les dispersions de donnees"
   ]
  },
  {
   "cell_type": "code",
   "execution_count": 23,
   "id": "ca84c18a",
   "metadata": {},
   "outputs": [
    {
     "data": {
      "image/png": "[encoded data removed]",
      "text/plain": [
       "<Figure size 1000x400 with 2 Axes>"
      ]
     },
     "metadata": {},
     "output_type": "display_data"
    }
   ],
   "source": [
    "df[['age', 'salaire']].hist()\n",
    "plt.show()"
   ]
  },
  {
   "cell_type": "code",
   "execution_count": 24,
   "id": "7bceedfc",
   "metadata": {},
   "outputs": [
    {
     "data": {
      "text/html": [
       "<div>\n",
       "<style scoped>\n",
       "    .dataframe tbody tr th:only-of-type {\n",
       "        vertical-align: middle;\n",
       "    }\n",
       "\n",
       "    .dataframe tbody tr th {\n",
       "        vertical-align: top;\n",
       "    }\n",
       "\n",
       "    .dataframe thead th {\n",
       "        text-align: right;\n",
       "    }\n",
       "</style>\n",
       "<table border=\"1\" class=\"dataframe\">\n",
       "  <thead>\n",
       "    <tr style=\"text-align: right;\">\n",
       "      <th></th>\n",
       "      <th>age</th>\n",
       "      <th>salaire</th>\n",
       "    </tr>\n",
       "  </thead>\n",
       "  <tbody>\n",
       "    <tr>\n",
       "      <th>count</th>\n",
       "      <td>35000.000000</td>\n",
       "      <td>3.500000e+04</td>\n",
       "    </tr>\n",
       "    <tr>\n",
       "      <th>mean</th>\n",
       "      <td>62.409343</td>\n",
       "      <td>4.918192e+05</td>\n",
       "    </tr>\n",
       "    <tr>\n",
       "      <th>std</th>\n",
       "      <td>20.305755</td>\n",
       "      <td>2.391821e+05</td>\n",
       "    </tr>\n",
       "    <tr>\n",
       "      <th>min</th>\n",
       "      <td>28.000000</td>\n",
       "      <td>8.000300e+04</td>\n",
       "    </tr>\n",
       "    <tr>\n",
       "      <th>25%</th>\n",
       "      <td>45.000000</td>\n",
       "      <td>2.913550e+05</td>\n",
       "    </tr>\n",
       "    <tr>\n",
       "      <th>50%</th>\n",
       "      <td>62.000000</td>\n",
       "      <td>4.914040e+05</td>\n",
       "    </tr>\n",
       "    <tr>\n",
       "      <th>75%</th>\n",
       "      <td>80.000000</td>\n",
       "      <td>6.911805e+05</td>\n",
       "    </tr>\n",
       "    <tr>\n",
       "      <th>max</th>\n",
       "      <td>190.000000</td>\n",
       "      <td>3.000000e+06</td>\n",
       "    </tr>\n",
       "  </tbody>\n",
       "</table>\n",
       "</div>"
      ],
      "text/plain": [
       "                age       salaire\n",
       "count  35000.000000  3.500000e+04\n",
       "mean      62.409343  4.918192e+05\n",
       "std       20.305755  2.391821e+05\n",
       "min       28.000000  8.000300e+04\n",
       "25%       45.000000  2.913550e+05\n",
       "50%       62.000000  4.914040e+05\n",
       "75%       80.000000  6.911805e+05\n",
       "max      190.000000  3.000000e+06"
      ]
     },
     "execution_count": 24,
     "metadata": {},
     "output_type": "execute_result"
    }
   ],
   "source": [
    "df[['age', 'salaire']].describe()"
   ]
  },
  {
   "attachments": {},
   "cell_type": "markdown",
   "id": "c6af263b",
   "metadata": {},
   "source": [
    "2- VERIFIER LA PRESENCE DES OUTLIERS"
   ]
  },
  {
   "cell_type": "code",
   "execution_count": 29,
   "id": "73f2468d",
   "metadata": {},
   "outputs": [],
   "source": [
    "def displayOutliers(data):\n",
    "    sns.boxplot(data)\n",
    "    plt.show()"
   ]
  },
  {
   "cell_type": "code",
   "execution_count": 34,
   "id": "024c5ed1",
   "metadata": {},
   "outputs": [
    {
     "data": {
      "image/png": "[encoded data removed]",
      "text/plain": [
       "<Figure size 1000x400 with 1 Axes>"
      ]
     },
     "metadata": {},
     "output_type": "display_data"
    }
   ],
   "source": [
    "displayOutliers(df[['salaire']])"
   ]
  },
  {
   "cell_type": "markdown",
   "id": "5622c97e",
   "metadata": {},
   "source": [
    "---\n",
    "- **Remplacement des outliers par la methode des QUARTILES**"
   ]
  },
  {
   "cell_type": "code",
   "execution_count": null,
   "id": "456f6f6a",
   "metadata": {},
   "outputs": [],
   "source": [
    "\n",
    "def drop_outliers(data, feature) -> None:\n",
    "    Q1 = np.percentile(data[feature], 25)\n",
    "    Q3 = np.percentile(data[feature], 75)\n",
    "    limit = 1.5*(Q3 - Q1)\n",
    "    \n",
    "    data.drop(data[data[feature] > (limit + Q3)].index, inplace = True)\n",
    "    data.drop(data[data[feature] < (Q1 - limit)].index, inplace = True)"
   ]
  },
  {
   "cell_type": "code",
   "execution_count": null,
   "id": "b50c9d2e",
   "metadata": {},
   "outputs": [],
   "source": [
    "\n",
    "for col in draft.columns:\n",
    "    drop_outliers(draft, col)"
   ]
  },
  {
   "cell_type": "code",
   "execution_count": null,
   "id": "5ed7df32",
   "metadata": {},
   "outputs": [],
   "source": []
  },
  {
   "cell_type": "code",
   "execution_count": null,
   "id": "14d730ca",
   "metadata": {},
   "outputs": [],
   "source": []
  },
  {
   "attachments": {},
   "cell_type": "markdown",
   "id": "559b3608",
   "metadata": {},
   "source": [
    "---\n",
    "### **Standardisation**\n",
    "\n",
    "#  $$x' = \\frac{x_{i} - \\mu}{\\sigma}$$"
   ]
  },
  {
   "cell_type": "code",
   "execution_count": null,
   "id": "beecf4bf",
   "metadata": {},
   "outputs": [],
   "source": []
  },
  {
   "cell_type": "code",
   "execution_count": null,
   "id": "19368ca9",
   "metadata": {},
   "outputs": [],
   "source": []
  },
  {
   "cell_type": "code",
   "execution_count": null,
   "id": "a04d8d09",
   "metadata": {},
   "outputs": [],
   "source": []
  },
  {
   "cell_type": "code",
   "execution_count": null,
   "id": "47aa705d",
   "metadata": {},
   "outputs": [],
   "source": []
  },
  {
   "cell_type": "markdown",
   "id": "408e5784",
   "metadata": {},
   "source": [
    "---\n",
    "- ### **Normalisation**\n",
    "\n",
    "#  $x' = \\frac{x - x_{min}}{x_{max} - x_{min}}$"
   ]
  },
  {
   "cell_type": "code",
   "execution_count": null,
   "id": "1235d1d6",
   "metadata": {},
   "outputs": [],
   "source": []
  },
  {
   "cell_type": "code",
   "execution_count": null,
   "id": "1cfeb847",
   "metadata": {},
   "outputs": [],
   "source": []
  },
  {
   "cell_type": "code",
   "execution_count": null,
   "id": "5050c986",
   "metadata": {},
   "outputs": [],
   "source": []
  },
  {
   "cell_type": "markdown",
   "id": "4770aea7",
   "metadata": {},
   "source": [
    "---\n",
    " - #### **RobustScaler**: applicable sur des données numériques ayant une distribution quelconque (excepté normale)\n",
    "  - # $x' = \\frac{x_{i} - Q_{2}}{Q_{3} - Q_{1}}$"
   ]
  },
  {
   "cell_type": "code",
   "execution_count": 38,
   "id": "bb215248",
   "metadata": {},
   "outputs": [],
   "source": [
    "data_rs = pd.DataFrame(RobustScaler().fit_transform(df), columns = df.columns)"
   ]
  },
  {
   "cell_type": "markdown",
   "id": "d2b44597",
   "metadata": {},
   "source": [
    "- Graphique avant l'application de robustScaler"
   ]
  },
  {
   "cell_type": "code",
   "execution_count": 44,
   "id": "12188db1",
   "metadata": {},
   "outputs": [
    {
     "data": {
      "image/png": "[encoded data removed]",
      "text/plain": [
       "<Figure size 1000x400 with 2 Axes>"
      ]
     },
     "metadata": {},
     "output_type": "display_data"
    }
   ],
   "source": [
    "df.hist()\n",
    "plt.show()"
   ]
  },
  {
   "cell_type": "markdown",
   "id": "fb5b3564",
   "metadata": {},
   "source": [
    "- Graphique apres avoir applique robustScaler\n"
   ]
  },
  {
   "cell_type": "code",
   "execution_count": 41,
   "id": "860ccc49",
   "metadata": {},
   "outputs": [
    {
     "data": {
      "image/png": "[encoded data removed]",
      "text/plain": [
       "<Figure size 1000x400 with 2 Axes>"
      ]
     },
     "metadata": {},
     "output_type": "display_data"
    }
   ],
   "source": [
    "data_rs.hist()\n",
    "plt.show()"
   ]
  },
  {
   "cell_type": "code",
   "execution_count": 43,
   "id": "32cea51b",
   "metadata": {},
   "outputs": [
    {
     "data": {
      "text/html": [
       "<div>\n",
       "<style scoped>\n",
       "    .dataframe tbody tr th:only-of-type {\n",
       "        vertical-align: middle;\n",
       "    }\n",
       "\n",
       "    .dataframe tbody tr th {\n",
       "        vertical-align: top;\n",
       "    }\n",
       "\n",
       "    .dataframe thead th {\n",
       "        text-align: right;\n",
       "    }\n",
       "</style>\n",
       "<table border=\"1\" class=\"dataframe\">\n",
       "  <thead>\n",
       "    <tr style=\"text-align: right;\">\n",
       "      <th></th>\n",
       "      <th>age</th>\n",
       "      <th>salaire</th>\n",
       "    </tr>\n",
       "  </thead>\n",
       "  <tbody>\n",
       "    <tr>\n",
       "      <th>count</th>\n",
       "      <td>35000.000000</td>\n",
       "      <td>3.500000e+04</td>\n",
       "    </tr>\n",
       "    <tr>\n",
       "      <th>mean</th>\n",
       "      <td>62.409343</td>\n",
       "      <td>4.918192e+05</td>\n",
       "    </tr>\n",
       "    <tr>\n",
       "      <th>std</th>\n",
       "      <td>20.305755</td>\n",
       "      <td>2.391821e+05</td>\n",
       "    </tr>\n",
       "    <tr>\n",
       "      <th>min</th>\n",
       "      <td>28.000000</td>\n",
       "      <td>8.000300e+04</td>\n",
       "    </tr>\n",
       "    <tr>\n",
       "      <th>25%</th>\n",
       "      <td>45.000000</td>\n",
       "      <td>2.913550e+05</td>\n",
       "    </tr>\n",
       "    <tr>\n",
       "      <th>50%</th>\n",
       "      <td>62.000000</td>\n",
       "      <td>4.914040e+05</td>\n",
       "    </tr>\n",
       "    <tr>\n",
       "      <th>75%</th>\n",
       "      <td>80.000000</td>\n",
       "      <td>6.911805e+05</td>\n",
       "    </tr>\n",
       "    <tr>\n",
       "      <th>max</th>\n",
       "      <td>190.000000</td>\n",
       "      <td>3.000000e+06</td>\n",
       "    </tr>\n",
       "  </tbody>\n",
       "</table>\n",
       "</div>"
      ],
      "text/plain": [
       "                age       salaire\n",
       "count  35000.000000  3.500000e+04\n",
       "mean      62.409343  4.918192e+05\n",
       "std       20.305755  2.391821e+05\n",
       "min       28.000000  8.000300e+04\n",
       "25%       45.000000  2.913550e+05\n",
       "50%       62.000000  4.914040e+05\n",
       "75%       80.000000  6.911805e+05\n",
       "max      190.000000  3.000000e+06"
      ]
     },
     "execution_count": 43,
     "metadata": {},
     "output_type": "execute_result"
    }
   ],
   "source": [
    "df.describe()"
   ]
  },
  {
   "cell_type": "code",
   "execution_count": 42,
   "id": "52c05fe1",
   "metadata": {},
   "outputs": [
    {
     "data": {
      "text/html": [
       "<div>\n",
       "<style scoped>\n",
       "    .dataframe tbody tr th:only-of-type {\n",
       "        vertical-align: middle;\n",
       "    }\n",
       "\n",
       "    .dataframe tbody tr th {\n",
       "        vertical-align: top;\n",
       "    }\n",
       "\n",
       "    .dataframe thead th {\n",
       "        text-align: right;\n",
       "    }\n",
       "</style>\n",
       "<table border=\"1\" class=\"dataframe\">\n",
       "  <thead>\n",
       "    <tr style=\"text-align: right;\">\n",
       "      <th></th>\n",
       "      <th>age</th>\n",
       "      <th>salaire</th>\n",
       "    </tr>\n",
       "  </thead>\n",
       "  <tbody>\n",
       "    <tr>\n",
       "      <th>count</th>\n",
       "      <td>35000.000000</td>\n",
       "      <td>35000.000000</td>\n",
       "    </tr>\n",
       "    <tr>\n",
       "      <th>mean</th>\n",
       "      <td>0.011696</td>\n",
       "      <td>0.001039</td>\n",
       "    </tr>\n",
       "    <tr>\n",
       "      <th>std</th>\n",
       "      <td>0.580164</td>\n",
       "      <td>0.598216</td>\n",
       "    </tr>\n",
       "    <tr>\n",
       "      <th>min</th>\n",
       "      <td>-0.971429</td>\n",
       "      <td>-1.028951</td>\n",
       "    </tr>\n",
       "    <tr>\n",
       "      <th>25%</th>\n",
       "      <td>-0.485714</td>\n",
       "      <td>-0.500341</td>\n",
       "    </tr>\n",
       "    <tr>\n",
       "      <th>50%</th>\n",
       "      <td>0.000000</td>\n",
       "      <td>0.000000</td>\n",
       "    </tr>\n",
       "    <tr>\n",
       "      <th>75%</th>\n",
       "      <td>0.514286</td>\n",
       "      <td>0.499659</td>\n",
       "    </tr>\n",
       "    <tr>\n",
       "      <th>max</th>\n",
       "      <td>3.657143</td>\n",
       "      <td>6.274227</td>\n",
       "    </tr>\n",
       "  </tbody>\n",
       "</table>\n",
       "</div>"
      ],
      "text/plain": [
       "                age       salaire\n",
       "count  35000.000000  35000.000000\n",
       "mean       0.011696      0.001039\n",
       "std        0.580164      0.598216\n",
       "min       -0.971429     -1.028951\n",
       "25%       -0.485714     -0.500341\n",
       "50%        0.000000      0.000000\n",
       "75%        0.514286      0.499659\n",
       "max        3.657143      6.274227"
      ]
     },
     "execution_count": 42,
     "metadata": {},
     "output_type": "execute_result"
    }
   ],
   "source": [
    "data_rs.describe()"
   ]
  },
  {
   "cell_type": "code",
   "execution_count": null,
   "id": "cad75a21",
   "metadata": {},
   "outputs": [],
   "source": []
  }
 ],
 "metadata": {
  "kernelspec": {
   "display_name": "Python 3",
   "language": "python",
   "name": "python3"
  },
  "language_info": {
   "codemirror_mode": {
    "name": "ipython",
    "version": 3
   },
   "file_extension": ".py",
   "mimetype": "text/x-python",
   "name": "python",
   "nbconvert_exporter": "python",
   "pygments_lexer": "ipython3",
   "version": "3.12.0"
  },
  "vscode": {
   "interpreter": {
    "hash": "916dbcbb3f70747c44a77c7bcd40155683ae19c65e1c03b4aa3499c5328201f1"
   }
  }
 },
 "nbformat": 4,
 "nbformat_minor": 5
}
