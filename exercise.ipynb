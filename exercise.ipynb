{
 "cells": [
  {
   "cell_type": "code",
   "execution_count": 131,
   "metadata": {},
   "outputs": [
    {
     "ename": "ModuleNotFoundError",
     "evalue": "No module named 'google.colab'",
     "output_type": "error",
     "traceback": [
      "\u001b[0;31m---------------------------------------------------------------------------\u001b[0m",
      "\u001b[0;31mModuleNotFoundError\u001b[0m                       Traceback (most recent call last)",
      "\u001b[1;32m/home/jsb56/Desktop/docs/dit/exercise.ipynb Cell 1\u001b[0m in \u001b[0;36m2\n\u001b[1;32m      <a href='vscode-notebook-cell:/home/jsb56/Desktop/docs/dit/exercise.ipynb#W0sZmlsZQ%3D%3D?line=0'>1</a>\u001b[0m \u001b[39mimport\u001b[39;00m \u001b[39mpandas\u001b[39;00m \u001b[39mas\u001b[39;00m \u001b[39mpd\u001b[39;00m \n\u001b[0;32m----> <a href='vscode-notebook-cell:/home/jsb56/Desktop/docs/dit/exercise.ipynb#W0sZmlsZQ%3D%3D?line=1'>2</a>\u001b[0m \u001b[39mfrom\u001b[39;00m \u001b[39mgoogle\u001b[39;00m\u001b[39m.\u001b[39;00m\u001b[39mcolab\u001b[39;00m \u001b[39mimport\u001b[39;00m files\n",
      "\u001b[0;31mModuleNotFoundError\u001b[0m: No module named 'google.colab'"
     ]
    }
   ],
   "source": [
    "import pandas as pd \n",
    "from google.colab import files"
   ]
  },
  {
   "cell_type": "code",
   "execution_count": 130,
   "metadata": {},
   "outputs": [
    {
     "ename": "NameError",
     "evalue": "name 'files' is not defined",
     "output_type": "error",
     "traceback": [
      "\u001b[0;31m---------------------------------------------------------------------------\u001b[0m",
      "\u001b[0;31mNameError\u001b[0m                                 Traceback (most recent call last)",
      "\u001b[1;32m/home/jsb56/Desktop/docs/dit/exercise.ipynb Cell 2\u001b[0m in \u001b[0;36m1\n\u001b[0;32m----> <a href='vscode-notebook-cell:/home/jsb56/Desktop/docs/dit/exercise.ipynb#X26sZmlsZQ%3D%3D?line=0'>1</a>\u001b[0m uploaded \u001b[39m=\u001b[39m files\u001b[39m.\u001b[39mupload()\n",
      "\u001b[0;31mNameError\u001b[0m: name 'files' is not defined"
     ]
    }
   ],
   "source": [
    "uploaded = files.upload()"
   ]
  },
  {
   "cell_type": "code",
   "execution_count": 132,
   "metadata": {},
   "outputs": [
    {
     "data": {
      "text/html": [
       "<div>\n",
       "<style scoped>\n",
       "    .dataframe tbody tr th:only-of-type {\n",
       "        vertical-align: middle;\n",
       "    }\n",
       "\n",
       "    .dataframe tbody tr th {\n",
       "        vertical-align: top;\n",
       "    }\n",
       "\n",
       "    .dataframe thead th {\n",
       "        text-align: right;\n",
       "    }\n",
       "</style>\n",
       "<table border=\"1\" class=\"dataframe\">\n",
       "  <thead>\n",
       "    <tr style=\"text-align: right;\">\n",
       "      <th></th>\n",
       "      <th>Nom</th>\n",
       "      <th>Taile</th>\n",
       "      <th>Poids</th>\n",
       "      <th>Age</th>\n",
       "      <th>Performance</th>\n",
       "    </tr>\n",
       "  </thead>\n",
       "  <tbody>\n",
       "    <tr>\n",
       "      <th>0</th>\n",
       "      <td>Ibrahim Issa</td>\n",
       "      <td>1m78</td>\n",
       "      <td>70kg</td>\n",
       "      <td>28 ans</td>\n",
       "      <td>Bonne</td>\n",
       "    </tr>\n",
       "    <tr>\n",
       "      <th>1</th>\n",
       "      <td>Ali Baba</td>\n",
       "      <td>1.8</td>\n",
       "      <td>65.5</td>\n",
       "      <td>27</td>\n",
       "      <td>Acceptable</td>\n",
       "    </tr>\n",
       "    <tr>\n",
       "      <th>2</th>\n",
       "      <td>Diop Ndiaye</td>\n",
       "      <td>1.80cm</td>\n",
       "      <td>65.5kg</td>\n",
       "      <td>28.5</td>\n",
       "      <td>Moyenne</td>\n",
       "    </tr>\n",
       "    <tr>\n",
       "      <th>3</th>\n",
       "      <td>moussa Sall</td>\n",
       "      <td>0.65</td>\n",
       "      <td>65.5</td>\n",
       "      <td>32 ANS</td>\n",
       "      <td>Faible</td>\n",
       "    </tr>\n",
       "    <tr>\n",
       "      <th>4</th>\n",
       "      <td>Haroune Ba</td>\n",
       "      <td>1,65</td>\n",
       "      <td>65.5</td>\n",
       "      <td>29,7</td>\n",
       "      <td>Moyen</td>\n",
       "    </tr>\n",
       "  </tbody>\n",
       "</table>\n",
       "</div>"
      ],
      "text/plain": [
       "            Nom   Taile   Poids     Age Performance\n",
       "0  Ibrahim Issa    1m78    70kg  28 ans       Bonne\n",
       "1      Ali Baba     1.8    65.5      27  Acceptable\n",
       "2   Diop Ndiaye  1.80cm  65.5kg    28.5     Moyenne\n",
       "3   moussa Sall    0.65    65.5  32 ANS      Faible\n",
       "4    Haroune Ba    1,65    65.5    29,7       Moyen"
      ]
     },
     "execution_count": 132,
     "metadata": {},
     "output_type": "execute_result"
    }
   ],
   "source": [
    "df = pd.read_csv('data.csv')\n",
    "df.head()"
   ]
  },
  {
   "cell_type": "code",
   "execution_count": 129,
   "metadata": {},
   "outputs": [
    {
     "data": {
      "text/plain": [
       "Index(['Nom', 'Taile', 'Poids', 'Age', 'Performance'], dtype='object')"
      ]
     },
     "execution_count": 129,
     "metadata": {},
     "output_type": "execute_result"
    }
   ],
   "source": [
    "df.columns"
   ]
  },
  {
   "attachments": {},
   "cell_type": "markdown",
   "metadata": {},
   "source": [
    "---\n",
    "Pour la colonne **Nom**\n",
    "- Mettre tout en **minuscule** \n",
    "- Mettre tout en **majuscule**\n",
    "- Mettre le premier caractere de chaque mot en **majuscule**  "
   ]
  },
  {
   "cell_type": "code",
   "execution_count": 125,
   "metadata": {},
   "outputs": [
    {
     "data": {
      "text/html": [
       "<div>\n",
       "<style scoped>\n",
       "    .dataframe tbody tr th:only-of-type {\n",
       "        vertical-align: middle;\n",
       "    }\n",
       "\n",
       "    .dataframe tbody tr th {\n",
       "        vertical-align: top;\n",
       "    }\n",
       "\n",
       "    .dataframe thead th {\n",
       "        text-align: right;\n",
       "    }\n",
       "</style>\n",
       "<table border=\"1\" class=\"dataframe\">\n",
       "  <thead>\n",
       "    <tr style=\"text-align: right;\">\n",
       "      <th></th>\n",
       "      <th>Nom</th>\n",
       "      <th>Taile</th>\n",
       "      <th>Poids</th>\n",
       "      <th>Age</th>\n",
       "      <th>Performance</th>\n",
       "    </tr>\n",
       "  </thead>\n",
       "  <tbody>\n",
       "    <tr>\n",
       "      <th>0</th>\n",
       "      <td>ibrahim issa</td>\n",
       "      <td>1m78</td>\n",
       "      <td>70kg</td>\n",
       "      <td>28</td>\n",
       "      <td>Bonne</td>\n",
       "    </tr>\n",
       "    <tr>\n",
       "      <th>1</th>\n",
       "      <td>ali baba</td>\n",
       "      <td>1.8</td>\n",
       "      <td>65.5</td>\n",
       "      <td>27</td>\n",
       "      <td>Acceptable</td>\n",
       "    </tr>\n",
       "    <tr>\n",
       "      <th>2</th>\n",
       "      <td>diop ndiaye</td>\n",
       "      <td>1.80cm</td>\n",
       "      <td>65.5kg</td>\n",
       "      <td>28.5</td>\n",
       "      <td>Moyenne</td>\n",
       "    </tr>\n",
       "    <tr>\n",
       "      <th>3</th>\n",
       "      <td>moussa sall</td>\n",
       "      <td>0.65</td>\n",
       "      <td>65.5</td>\n",
       "      <td>32</td>\n",
       "      <td>Faible</td>\n",
       "    </tr>\n",
       "    <tr>\n",
       "      <th>4</th>\n",
       "      <td>haroune ba</td>\n",
       "      <td>1,65</td>\n",
       "      <td>65.5</td>\n",
       "      <td>29,7</td>\n",
       "      <td>Moyen</td>\n",
       "    </tr>\n",
       "    <tr>\n",
       "      <th>5</th>\n",
       "      <td>james</td>\n",
       "      <td>3.65</td>\n",
       "      <td>200kg</td>\n",
       "      <td>33</td>\n",
       "      <td>faible</td>\n",
       "    </tr>\n",
       "  </tbody>\n",
       "</table>\n",
       "</div>"
      ],
      "text/plain": [
       "            Nom   Taile   Poids   Age Performance\n",
       "0  ibrahim issa    1m78    70kg    28       Bonne\n",
       "1      ali baba     1.8    65.5    27  Acceptable\n",
       "2   diop ndiaye  1.80cm  65.5kg  28.5     Moyenne\n",
       "3   moussa sall    0.65    65.5    32      Faible\n",
       "4    haroune ba    1,65    65.5  29,7       Moyen\n",
       "5         james    3.65   200kg    33      faible"
      ]
     },
     "execution_count": 125,
     "metadata": {},
     "output_type": "execute_result"
    }
   ],
   "source": [
    "df['Nom'] = df['Nom'].str.lower()\n",
    "df"
   ]
  },
  {
   "cell_type": "code",
   "execution_count": 127,
   "metadata": {},
   "outputs": [
    {
     "data": {
      "text/html": [
       "<div>\n",
       "<style scoped>\n",
       "    .dataframe tbody tr th:only-of-type {\n",
       "        vertical-align: middle;\n",
       "    }\n",
       "\n",
       "    .dataframe tbody tr th {\n",
       "        vertical-align: top;\n",
       "    }\n",
       "\n",
       "    .dataframe thead th {\n",
       "        text-align: right;\n",
       "    }\n",
       "</style>\n",
       "<table border=\"1\" class=\"dataframe\">\n",
       "  <thead>\n",
       "    <tr style=\"text-align: right;\">\n",
       "      <th></th>\n",
       "      <th>Nom</th>\n",
       "      <th>Taile</th>\n",
       "      <th>Poids</th>\n",
       "      <th>Age</th>\n",
       "      <th>Performance</th>\n",
       "    </tr>\n",
       "  </thead>\n",
       "  <tbody>\n",
       "    <tr>\n",
       "      <th>0</th>\n",
       "      <td>IBRAHIM ISSA</td>\n",
       "      <td>1m78</td>\n",
       "      <td>70kg</td>\n",
       "      <td>28</td>\n",
       "      <td>Bonne</td>\n",
       "    </tr>\n",
       "    <tr>\n",
       "      <th>1</th>\n",
       "      <td>ALI BABA</td>\n",
       "      <td>1.8</td>\n",
       "      <td>65.5</td>\n",
       "      <td>27</td>\n",
       "      <td>Acceptable</td>\n",
       "    </tr>\n",
       "    <tr>\n",
       "      <th>2</th>\n",
       "      <td>DIOP NDIAYE</td>\n",
       "      <td>1.80cm</td>\n",
       "      <td>65.5kg</td>\n",
       "      <td>28.5</td>\n",
       "      <td>Moyenne</td>\n",
       "    </tr>\n",
       "    <tr>\n",
       "      <th>3</th>\n",
       "      <td>MOUSSA SALL</td>\n",
       "      <td>0.65</td>\n",
       "      <td>65.5</td>\n",
       "      <td>32</td>\n",
       "      <td>Faible</td>\n",
       "    </tr>\n",
       "    <tr>\n",
       "      <th>4</th>\n",
       "      <td>HAROUNE BA</td>\n",
       "      <td>1,65</td>\n",
       "      <td>65.5</td>\n",
       "      <td>29,7</td>\n",
       "      <td>Moyen</td>\n",
       "    </tr>\n",
       "    <tr>\n",
       "      <th>5</th>\n",
       "      <td>JAMES</td>\n",
       "      <td>3.65</td>\n",
       "      <td>200kg</td>\n",
       "      <td>33</td>\n",
       "      <td>faible</td>\n",
       "    </tr>\n",
       "  </tbody>\n",
       "</table>\n",
       "</div>"
      ],
      "text/plain": [
       "            Nom   Taile   Poids   Age Performance\n",
       "0  IBRAHIM ISSA    1m78    70kg    28       Bonne\n",
       "1      ALI BABA     1.8    65.5    27  Acceptable\n",
       "2   DIOP NDIAYE  1.80cm  65.5kg  28.5     Moyenne\n",
       "3   MOUSSA SALL    0.65    65.5    32      Faible\n",
       "4    HAROUNE BA    1,65    65.5  29,7       Moyen\n",
       "5         JAMES    3.65   200kg    33      faible"
      ]
     },
     "execution_count": 127,
     "metadata": {},
     "output_type": "execute_result"
    }
   ],
   "source": [
    "df['Nom'] = df['Nom'].str.upper()\n",
    "df"
   ]
  },
  {
   "cell_type": "code",
   "execution_count": 128,
   "metadata": {},
   "outputs": [
    {
     "data": {
      "text/html": [
       "<div>\n",
       "<style scoped>\n",
       "    .dataframe tbody tr th:only-of-type {\n",
       "        vertical-align: middle;\n",
       "    }\n",
       "\n",
       "    .dataframe tbody tr th {\n",
       "        vertical-align: top;\n",
       "    }\n",
       "\n",
       "    .dataframe thead th {\n",
       "        text-align: right;\n",
       "    }\n",
       "</style>\n",
       "<table border=\"1\" class=\"dataframe\">\n",
       "  <thead>\n",
       "    <tr style=\"text-align: right;\">\n",
       "      <th></th>\n",
       "      <th>Nom</th>\n",
       "      <th>Taile</th>\n",
       "      <th>Poids</th>\n",
       "      <th>Age</th>\n",
       "      <th>Performance</th>\n",
       "    </tr>\n",
       "  </thead>\n",
       "  <tbody>\n",
       "    <tr>\n",
       "      <th>0</th>\n",
       "      <td>Ibrahim Issa</td>\n",
       "      <td>1m78</td>\n",
       "      <td>70kg</td>\n",
       "      <td>28</td>\n",
       "      <td>Bonne</td>\n",
       "    </tr>\n",
       "    <tr>\n",
       "      <th>1</th>\n",
       "      <td>Ali Baba</td>\n",
       "      <td>1.8</td>\n",
       "      <td>65.5</td>\n",
       "      <td>27</td>\n",
       "      <td>Acceptable</td>\n",
       "    </tr>\n",
       "    <tr>\n",
       "      <th>2</th>\n",
       "      <td>Diop Ndiaye</td>\n",
       "      <td>1.80cm</td>\n",
       "      <td>65.5kg</td>\n",
       "      <td>28.5</td>\n",
       "      <td>Moyenne</td>\n",
       "    </tr>\n",
       "    <tr>\n",
       "      <th>3</th>\n",
       "      <td>Moussa Sall</td>\n",
       "      <td>0.65</td>\n",
       "      <td>65.5</td>\n",
       "      <td>32</td>\n",
       "      <td>Faible</td>\n",
       "    </tr>\n",
       "    <tr>\n",
       "      <th>4</th>\n",
       "      <td>Haroune Ba</td>\n",
       "      <td>1,65</td>\n",
       "      <td>65.5</td>\n",
       "      <td>29,7</td>\n",
       "      <td>Moyen</td>\n",
       "    </tr>\n",
       "    <tr>\n",
       "      <th>5</th>\n",
       "      <td>James</td>\n",
       "      <td>3.65</td>\n",
       "      <td>200kg</td>\n",
       "      <td>33</td>\n",
       "      <td>faible</td>\n",
       "    </tr>\n",
       "  </tbody>\n",
       "</table>\n",
       "</div>"
      ],
      "text/plain": [
       "            Nom   Taile   Poids   Age Performance\n",
       "0  Ibrahim Issa    1m78    70kg    28       Bonne\n",
       "1      Ali Baba     1.8    65.5    27  Acceptable\n",
       "2   Diop Ndiaye  1.80cm  65.5kg  28.5     Moyenne\n",
       "3   Moussa Sall    0.65    65.5    32      Faible\n",
       "4    Haroune Ba    1,65    65.5  29,7       Moyen\n",
       "5         James    3.65   200kg    33      faible"
      ]
     },
     "execution_count": 128,
     "metadata": {},
     "output_type": "execute_result"
    }
   ],
   "source": [
    "df['Nom'] = df['Nom'].str.title()\n",
    "df"
   ]
  },
  {
   "attachments": {},
   "cell_type": "markdown",
   "metadata": {},
   "source": [
    "---\n",
    "- Corriger toutes les erreurs de la colonne **Age**"
   ]
  },
  {
   "cell_type": "code",
   "execution_count": 112,
   "metadata": {},
   "outputs": [
    {
     "data": {
      "text/plain": [
       "Nom            Ibrahim Issa\n",
       "Taile                  1m78\n",
       "Poids                  70kg\n",
       "Age                  28 ans\n",
       "Performance           Bonne\n",
       "Name: 0, dtype: object"
      ]
     },
     "execution_count": 112,
     "metadata": {},
     "output_type": "execute_result"
    }
   ],
   "source": [
    "df.iloc[0]"
   ]
  },
  {
   "cell_type": "code",
   "execution_count": 113,
   "metadata": {},
   "outputs": [
    {
     "data": {
      "text/html": [
       "<div>\n",
       "<style scoped>\n",
       "    .dataframe tbody tr th:only-of-type {\n",
       "        vertical-align: middle;\n",
       "    }\n",
       "\n",
       "    .dataframe tbody tr th {\n",
       "        vertical-align: top;\n",
       "    }\n",
       "\n",
       "    .dataframe thead th {\n",
       "        text-align: right;\n",
       "    }\n",
       "</style>\n",
       "<table border=\"1\" class=\"dataframe\">\n",
       "  <thead>\n",
       "    <tr style=\"text-align: right;\">\n",
       "      <th></th>\n",
       "      <th>Nom</th>\n",
       "      <th>Taile</th>\n",
       "      <th>Poids</th>\n",
       "      <th>Age</th>\n",
       "      <th>Performance</th>\n",
       "    </tr>\n",
       "  </thead>\n",
       "  <tbody>\n",
       "    <tr>\n",
       "      <th>0</th>\n",
       "      <td>Ibrahim Issa</td>\n",
       "      <td>1m78</td>\n",
       "      <td>70kg</td>\n",
       "      <td>28 ans</td>\n",
       "      <td>Bonne</td>\n",
       "    </tr>\n",
       "    <tr>\n",
       "      <th>1</th>\n",
       "      <td>Ali Baba</td>\n",
       "      <td>1.8</td>\n",
       "      <td>65.5</td>\n",
       "      <td>27</td>\n",
       "      <td>Acceptable</td>\n",
       "    </tr>\n",
       "    <tr>\n",
       "      <th>2</th>\n",
       "      <td>Diop Ndiaye</td>\n",
       "      <td>1.80cm</td>\n",
       "      <td>65.5kg</td>\n",
       "      <td>28.5</td>\n",
       "      <td>Moyenne</td>\n",
       "    </tr>\n",
       "    <tr>\n",
       "      <th>3</th>\n",
       "      <td>Moussa Sall</td>\n",
       "      <td>0.65</td>\n",
       "      <td>65.5</td>\n",
       "      <td>32 ANS</td>\n",
       "      <td>Faible</td>\n",
       "    </tr>\n",
       "    <tr>\n",
       "      <th>4</th>\n",
       "      <td>Haroune Ba</td>\n",
       "      <td>1,65</td>\n",
       "      <td>65.5</td>\n",
       "      <td>29,7</td>\n",
       "      <td>Moyen</td>\n",
       "    </tr>\n",
       "    <tr>\n",
       "      <th>5</th>\n",
       "      <td>James</td>\n",
       "      <td>3.65</td>\n",
       "      <td>200kg</td>\n",
       "      <td>33</td>\n",
       "      <td>faible</td>\n",
       "    </tr>\n",
       "  </tbody>\n",
       "</table>\n",
       "</div>"
      ],
      "text/plain": [
       "            Nom   Taile   Poids     Age Performance\n",
       "0  Ibrahim Issa    1m78    70kg  28 ans       Bonne\n",
       "1      Ali Baba     1.8    65.5      27  Acceptable\n",
       "2   Diop Ndiaye  1.80cm  65.5kg    28.5     Moyenne\n",
       "3   Moussa Sall    0.65    65.5  32 ANS      Faible\n",
       "4    Haroune Ba    1,65    65.5    29,7       Moyen\n",
       "5         James    3.65   200kg      33      faible"
      ]
     },
     "execution_count": 113,
     "metadata": {},
     "output_type": "execute_result"
    }
   ],
   "source": [
    "df"
   ]
  },
  {
   "cell_type": "code",
   "execution_count": 114,
   "metadata": {},
   "outputs": [
    {
     "data": {
      "text/plain": [
       "Nom            object\n",
       "Taile          object\n",
       "Poids          object\n",
       "Age            object\n",
       "Performance    object\n",
       "dtype: object"
      ]
     },
     "execution_count": 114,
     "metadata": {},
     "output_type": "execute_result"
    }
   ],
   "source": [
    "df.dtypes"
   ]
  },
  {
   "cell_type": "code",
   "execution_count": 115,
   "metadata": {},
   "outputs": [
    {
     "data": {
      "text/plain": [
       "0    28 ans\n",
       "1        27\n",
       "2      28.5\n",
       "3    32 ANS\n",
       "4      29,7\n",
       "5        33\n",
       "Name: Age, dtype: object"
      ]
     },
     "execution_count": 115,
     "metadata": {},
     "output_type": "execute_result"
    }
   ],
   "source": [
    "df['Age']"
   ]
  },
  {
   "attachments": {},
   "cell_type": "markdown",
   "metadata": {},
   "source": [
    "---\n",
    "- Les filtres"
   ]
  },
  {
   "cell_type": "code",
   "execution_count": 116,
   "metadata": {},
   "outputs": [
    {
     "data": {
      "text/html": [
       "<div>\n",
       "<style scoped>\n",
       "    .dataframe tbody tr th:only-of-type {\n",
       "        vertical-align: middle;\n",
       "    }\n",
       "\n",
       "    .dataframe tbody tr th {\n",
       "        vertical-align: top;\n",
       "    }\n",
       "\n",
       "    .dataframe thead th {\n",
       "        text-align: right;\n",
       "    }\n",
       "</style>\n",
       "<table border=\"1\" class=\"dataframe\">\n",
       "  <thead>\n",
       "    <tr style=\"text-align: right;\">\n",
       "      <th></th>\n",
       "      <th>Nom</th>\n",
       "      <th>Taile</th>\n",
       "      <th>Poids</th>\n",
       "      <th>Age</th>\n",
       "      <th>Performance</th>\n",
       "    </tr>\n",
       "  </thead>\n",
       "  <tbody>\n",
       "    <tr>\n",
       "      <th>0</th>\n",
       "      <td>Ibrahim Issa</td>\n",
       "      <td>1m78</td>\n",
       "      <td>70kg</td>\n",
       "      <td>28 ans</td>\n",
       "      <td>Bonne</td>\n",
       "    </tr>\n",
       "    <tr>\n",
       "      <th>3</th>\n",
       "      <td>Moussa Sall</td>\n",
       "      <td>0.65</td>\n",
       "      <td>65.5</td>\n",
       "      <td>32 ANS</td>\n",
       "      <td>Faible</td>\n",
       "    </tr>\n",
       "  </tbody>\n",
       "</table>\n",
       "</div>"
      ],
      "text/plain": [
       "            Nom Taile Poids     Age Performance\n",
       "0  Ibrahim Issa  1m78  70kg  28 ans       Bonne\n",
       "3   Moussa Sall  0.65  65.5  32 ANS      Faible"
      ]
     },
     "execution_count": 116,
     "metadata": {},
     "output_type": "execute_result"
    }
   ],
   "source": [
    "df[df['Age'].str.contains('ANS') | df['Age'].str.contains('ans')]"
   ]
  },
  {
   "cell_type": "code",
   "execution_count": 117,
   "metadata": {},
   "outputs": [
    {
     "data": {
      "text/plain": [
       "['28', 'ans']"
      ]
     },
     "execution_count": 117,
     "metadata": {},
     "output_type": "execute_result"
    }
   ],
   "source": [
    "df['Age'].str.split()[0]"
   ]
  },
  {
   "cell_type": "code",
   "execution_count": 124,
   "metadata": {},
   "outputs": [
    {
     "data": {
      "text/plain": [
       "0      28\n",
       "1      27\n",
       "2    28.5\n",
       "3      32\n",
       "4    29,7\n",
       "5      33\n",
       "Name: Age, dtype: object"
      ]
     },
     "execution_count": 124,
     "metadata": {},
     "output_type": "execute_result"
    }
   ],
   "source": [
    "df['Age'] "
   ]
  },
  {
   "cell_type": "code",
   "execution_count": 119,
   "metadata": {},
   "outputs": [
    {
     "data": {
      "text/plain": [
       "['28', 'ans']"
      ]
     },
     "execution_count": 119,
     "metadata": {},
     "output_type": "execute_result"
    }
   ],
   "source": [
    "a = df['Age'].str.split()[0]\n",
    "a"
   ]
  },
  {
   "cell_type": "code",
   "execution_count": 120,
   "metadata": {},
   "outputs": [
    {
     "data": {
      "text/plain": [
       "0    28 ans\n",
       "1        27\n",
       "2      28.5\n",
       "3    32 ANS\n",
       "4      29,7\n",
       "5        33\n",
       "Name: Age, dtype: object"
      ]
     },
     "execution_count": 120,
     "metadata": {},
     "output_type": "execute_result"
    }
   ],
   "source": [
    "df['Age']"
   ]
  },
  {
   "cell_type": "code",
   "execution_count": 135,
   "metadata": {},
   "outputs": [],
   "source": [
    "for i, j in enumerate(df['Age']):\n",
    "    a = j.split()[0].replace('ans','')\n",
    "    df.loc[i,'Age'] = a"
   ]
  },
  {
   "cell_type": "code",
   "execution_count": 136,
   "metadata": {},
   "outputs": [
    {
     "data": {
      "text/html": [
       "<div>\n",
       "<style scoped>\n",
       "    .dataframe tbody tr th:only-of-type {\n",
       "        vertical-align: middle;\n",
       "    }\n",
       "\n",
       "    .dataframe tbody tr th {\n",
       "        vertical-align: top;\n",
       "    }\n",
       "\n",
       "    .dataframe thead th {\n",
       "        text-align: right;\n",
       "    }\n",
       "</style>\n",
       "<table border=\"1\" class=\"dataframe\">\n",
       "  <thead>\n",
       "    <tr style=\"text-align: right;\">\n",
       "      <th></th>\n",
       "      <th>Nom</th>\n",
       "      <th>Taile</th>\n",
       "      <th>Poids</th>\n",
       "      <th>Age</th>\n",
       "      <th>Performance</th>\n",
       "    </tr>\n",
       "  </thead>\n",
       "  <tbody>\n",
       "    <tr>\n",
       "      <th>0</th>\n",
       "      <td>Ibrahim Issa</td>\n",
       "      <td>1m78</td>\n",
       "      <td>70kg</td>\n",
       "      <td>28</td>\n",
       "      <td>Bonne</td>\n",
       "    </tr>\n",
       "    <tr>\n",
       "      <th>1</th>\n",
       "      <td>Ali Baba</td>\n",
       "      <td>1.8</td>\n",
       "      <td>65.5</td>\n",
       "      <td>27</td>\n",
       "      <td>Acceptable</td>\n",
       "    </tr>\n",
       "    <tr>\n",
       "      <th>2</th>\n",
       "      <td>Diop Ndiaye</td>\n",
       "      <td>1.80cm</td>\n",
       "      <td>65.5kg</td>\n",
       "      <td>28.5</td>\n",
       "      <td>Moyenne</td>\n",
       "    </tr>\n",
       "    <tr>\n",
       "      <th>3</th>\n",
       "      <td>moussa Sall</td>\n",
       "      <td>0.65</td>\n",
       "      <td>65.5</td>\n",
       "      <td>32</td>\n",
       "      <td>Faible</td>\n",
       "    </tr>\n",
       "    <tr>\n",
       "      <th>4</th>\n",
       "      <td>Haroune Ba</td>\n",
       "      <td>1,65</td>\n",
       "      <td>65.5</td>\n",
       "      <td>29,7</td>\n",
       "      <td>Moyen</td>\n",
       "    </tr>\n",
       "    <tr>\n",
       "      <th>5</th>\n",
       "      <td>James</td>\n",
       "      <td>3.65</td>\n",
       "      <td>200kg</td>\n",
       "      <td>33</td>\n",
       "      <td>faible</td>\n",
       "    </tr>\n",
       "  </tbody>\n",
       "</table>\n",
       "</div>"
      ],
      "text/plain": [
       "            Nom   Taile   Poids   Age Performance\n",
       "0  Ibrahim Issa    1m78    70kg    28       Bonne\n",
       "1      Ali Baba     1.8    65.5    27  Acceptable\n",
       "2   Diop Ndiaye  1.80cm  65.5kg  28.5     Moyenne\n",
       "3   moussa Sall    0.65    65.5    32      Faible\n",
       "4    Haroune Ba    1,65    65.5  29,7       Moyen\n",
       "5         James    3.65   200kg    33      faible"
      ]
     },
     "execution_count": 136,
     "metadata": {},
     "output_type": "execute_result"
    }
   ],
   "source": [
    "df"
   ]
  },
  {
   "cell_type": "code",
   "execution_count": 137,
   "metadata": {},
   "outputs": [],
   "source": [
    "for i, j in enumerate(df['Age']):\n",
    "    a = j.split()[0].replace(',','.')\n",
    "    df.loc[i,'Age'] = a"
   ]
  },
  {
   "cell_type": "code",
   "execution_count": 139,
   "metadata": {},
   "outputs": [],
   "source": [
    "df['Age'] = df['Age'].astype(float)"
   ]
  },
  {
   "cell_type": "code",
   "execution_count": 140,
   "metadata": {},
   "outputs": [
    {
     "data": {
      "text/html": [
       "<div>\n",
       "<style scoped>\n",
       "    .dataframe tbody tr th:only-of-type {\n",
       "        vertical-align: middle;\n",
       "    }\n",
       "\n",
       "    .dataframe tbody tr th {\n",
       "        vertical-align: top;\n",
       "    }\n",
       "\n",
       "    .dataframe thead th {\n",
       "        text-align: right;\n",
       "    }\n",
       "</style>\n",
       "<table border=\"1\" class=\"dataframe\">\n",
       "  <thead>\n",
       "    <tr style=\"text-align: right;\">\n",
       "      <th></th>\n",
       "      <th>Nom</th>\n",
       "      <th>Taile</th>\n",
       "      <th>Poids</th>\n",
       "      <th>Age</th>\n",
       "      <th>Performance</th>\n",
       "    </tr>\n",
       "  </thead>\n",
       "  <tbody>\n",
       "    <tr>\n",
       "      <th>0</th>\n",
       "      <td>Ibrahim Issa</td>\n",
       "      <td>1m78</td>\n",
       "      <td>70kg</td>\n",
       "      <td>28.0</td>\n",
       "      <td>Bonne</td>\n",
       "    </tr>\n",
       "    <tr>\n",
       "      <th>1</th>\n",
       "      <td>Ali Baba</td>\n",
       "      <td>1.8</td>\n",
       "      <td>65.5</td>\n",
       "      <td>27.0</td>\n",
       "      <td>Acceptable</td>\n",
       "    </tr>\n",
       "    <tr>\n",
       "      <th>2</th>\n",
       "      <td>Diop Ndiaye</td>\n",
       "      <td>1.80cm</td>\n",
       "      <td>65.5kg</td>\n",
       "      <td>28.5</td>\n",
       "      <td>Moyenne</td>\n",
       "    </tr>\n",
       "    <tr>\n",
       "      <th>3</th>\n",
       "      <td>moussa Sall</td>\n",
       "      <td>0.65</td>\n",
       "      <td>65.5</td>\n",
       "      <td>32.0</td>\n",
       "      <td>Faible</td>\n",
       "    </tr>\n",
       "    <tr>\n",
       "      <th>4</th>\n",
       "      <td>Haroune Ba</td>\n",
       "      <td>1,65</td>\n",
       "      <td>65.5</td>\n",
       "      <td>29.7</td>\n",
       "      <td>Moyen</td>\n",
       "    </tr>\n",
       "    <tr>\n",
       "      <th>5</th>\n",
       "      <td>James</td>\n",
       "      <td>3.65</td>\n",
       "      <td>200kg</td>\n",
       "      <td>33.0</td>\n",
       "      <td>faible</td>\n",
       "    </tr>\n",
       "  </tbody>\n",
       "</table>\n",
       "</div>"
      ],
      "text/plain": [
       "            Nom   Taile   Poids   Age Performance\n",
       "0  Ibrahim Issa    1m78    70kg  28.0       Bonne\n",
       "1      Ali Baba     1.8    65.5  27.0  Acceptable\n",
       "2   Diop Ndiaye  1.80cm  65.5kg  28.5     Moyenne\n",
       "3   moussa Sall    0.65    65.5  32.0      Faible\n",
       "4    Haroune Ba    1,65    65.5  29.7       Moyen\n",
       "5         James    3.65   200kg  33.0      faible"
      ]
     },
     "execution_count": 140,
     "metadata": {},
     "output_type": "execute_result"
    }
   ],
   "source": [
    "df"
   ]
  },
  {
   "cell_type": "code",
   "execution_count": null,
   "metadata": {},
   "outputs": [],
   "source": []
  }
 ],
 "metadata": {
  "kernelspec": {
   "display_name": "Python 3",
   "language": "python",
   "name": "python3"
  },
  "language_info": {
   "codemirror_mode": {
    "name": "ipython",
    "version": 3
   },
   "file_extension": ".py",
   "mimetype": "text/x-python",
   "name": "python",
   "nbconvert_exporter": "python",
   "pygments_lexer": "ipython3",
   "version": "3.10.6"
  },
  "orig_nbformat": 4
 },
 "nbformat": 4,
 "nbformat_minor": 2
}
